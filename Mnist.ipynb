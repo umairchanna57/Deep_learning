{
  "nbformat": 4,
  "nbformat_minor": 0,
  "metadata": {
    "colab": {
      "provenance": [],
      "gpuType": "T4",
      "authorship_tag": "ABX9TyOsx6FpY0roMuyfHrWq4kCs",
      "include_colab_link": true
    },
    "kernelspec": {
      "name": "python3",
      "display_name": "Python 3"
    },
    "language_info": {
      "name": "python"
    },
    "accelerator": "GPU"
  },
  "cells": [
    {
      "cell_type": "markdown",
      "metadata": {
        "id": "view-in-github",
        "colab_type": "text"
      },
      "source": [
        "<a href=\"https://colab.research.google.com/github/umairchanna57/Deep_learning/blob/main/Mnist.ipynb\" target=\"_parent\"><img src=\"https://colab.research.google.com/assets/colab-badge.svg\" alt=\"Open In Colab\"/></a>"
      ]
    },
    {
      "cell_type": "code",
      "execution_count": 2,
      "metadata": {
        "id": "hlGzB7j9RoUq"
      },
      "outputs": [],
      "source": [
        "import tensorflow as tf\n",
        "from tensorflow import keras\n",
        "import matplotlib.pyplot as plt\n",
        "import numpy as np"
      ]
    },
    {
      "cell_type": "code",
      "source": [
        "mnist = keras.datasets.mnist"
      ],
      "metadata": {
        "id": "wocgxalgYgva"
      },
      "execution_count": 3,
      "outputs": []
    },
    {
      "cell_type": "code",
      "source": [
        "(x_train_full, y_train_full),(x_test, y_test) = mnist.load_data()"
      ],
      "metadata": {
        "colab": {
          "base_uri": "https://localhost:8080/"
        },
        "id": "J5eW3vjKY-4A",
        "outputId": "04c17880-9b99-467b-9276-2c6ed86a6285"
      },
      "execution_count": 4,
      "outputs": [
        {
          "output_type": "stream",
          "name": "stdout",
          "text": [
            "Downloading data from https://storage.googleapis.com/tensorflow/tf-keras-datasets/mnist.npz\n",
            "11490434/11490434 [==============================] - 1s 0us/step\n"
          ]
        }
      ]
    },
    {
      "cell_type": "code",
      "source": [
        "plt.imshow(x_train_full[2])"
      ],
      "metadata": {
        "colab": {
          "base_uri": "https://localhost:8080/",
          "height": 448
        },
        "id": "md1dWHViKgTR",
        "outputId": "f802938e-bb13-4a26-c298-88e6599a344a"
      },
      "execution_count": 5,
      "outputs": [
        {
          "output_type": "execute_result",
          "data": {
            "text/plain": [
              "<matplotlib.image.AxesImage at 0x7fef9bacf760>"
            ]
          },
          "metadata": {},
          "execution_count": 5
        },
        {
          "output_type": "display_data",
          "data": {
            "text/plain": [
              "<Figure size 640x480 with 1 Axes>"
            ],
            "image/png": "[encoded data removed]"
          },
          "metadata": {}
        }
      ]
    },
    {
      "cell_type": "code",
      "source": [
        "plt.imshow(x_test[2])"
      ],
      "metadata": {
        "colab": {
          "base_uri": "https://localhost:8080/",
          "height": 448
        },
        "id": "aPbkUDdtKpAc",
        "outputId": "549e9ebc-7bdb-48a9-a5c7-51545a04ad9e"
      },
      "execution_count": 6,
      "outputs": [
        {
          "output_type": "execute_result",
          "data": {
            "text/plain": [
              "<matplotlib.image.AxesImage at 0x7fef980dece0>"
            ]
          },
          "metadata": {},
          "execution_count": 6
        },
        {
          "output_type": "display_data",
          "data": {
            "text/plain": [
              "<Figure size 640x480 with 1 Axes>"
            ],
            "image/png": "[encoded data removed]"
          },
          "metadata": {}
        }
      ]
    },
    {
      "cell_type": "code",
      "source": [
        "x_train_norm = x_train_full/255.\n",
        "x_test_norm = x_test/255.\n",
        "x_valid, x_train = x_train_norm[:5000], x_train_norm[5000:]\n",
        "y_valid, y_train = y_train_full[:5000], y_train_full[5000:]\n",
        "\n",
        "x_test = x_test_norm"
      ],
      "metadata": {
        "id": "hvUyYooSK5aA"
      },
      "execution_count": 7,
      "outputs": []
    },
    {
      "cell_type": "code",
      "source": [
        "np.random.seed(42)\n",
        "tf.random.set_seed(42)"
      ],
      "metadata": {
        "id": "ZnV33AyeLAMS"
      },
      "execution_count": 8,
      "outputs": []
    },
    {
      "cell_type": "code",
      "source": [
        "model = keras.models.Sequential()\n",
        "\n",
        "model.add(keras.layers.Flatten(input_shape=[28,28]))\n",
        "model.add(keras.layers.Dense(300, activation=\"relu\"))\n",
        "model.add(keras.layers.Dense(100, activation=\"relu\"))\n",
        "model.add(keras.layers.Dense(10, activation=\"softmax\"))"
      ],
      "metadata": {
        "id": "C3WQdiHVLRNE"
      },
      "execution_count": 9,
      "outputs": []
    },
    {
      "cell_type": "code",
      "source": [
        "model.summary()"
      ],
      "metadata": {
        "colab": {
          "base_uri": "https://localhost:8080/"
        },
        "id": "QYxEEDa-LYmX",
        "outputId": "669b4bdc-0e41-4437-c86f-3089677ef626"
      },
      "execution_count": 10,
      "outputs": [
        {
          "output_type": "stream",
          "name": "stdout",
          "text": [
            "Model: \"sequential\"\n",
            "_________________________________________________________________\n",
            " Layer (type)                Output Shape              Param #   \n",
            "=================================================================\n",
            " flatten (Flatten)           (None, 784)               0         \n",
            "                                                                 \n",
            " dense (Dense)               (None, 300)               235500    \n",
            "                                                                 \n",
            " dense_1 (Dense)             (None, 100)               30100     \n",
            "                                                                 \n",
            " dense_2 (Dense)             (None, 10)                1010      \n",
            "                                                                 \n",
            "=================================================================\n",
            "Total params: 266,610\n",
            "Trainable params: 266,610\n",
            "Non-trainable params: 0\n",
            "_________________________________________________________________\n"
          ]
        }
      ]
    },
    {
      "cell_type": "code",
      "source": [
        "model.compile(loss=\"sparse_categorical_crossentropy\",\n",
        "              optimizer=\"sgd\",\n",
        "              metrics=[\"accuracy\"])"
      ],
      "metadata": {
        "id": "awXKZXHeLioI"
      },
      "execution_count": 11,
      "outputs": []
    },
    {
      "cell_type": "code",
      "source": [
        "model_history = model.fit(x_train,y_train,epochs=50,validation_data=(x_valid,y_valid))"
      ],
      "metadata": {
        "colab": {
          "base_uri": "https://localhost:8080/"
        },
        "id": "N9yjJWZCLpfU",
        "outputId": "f850d66d-1119-4f76-d0b1-f123cb217a32"
      },
      "execution_count": 12,
      "outputs": [
        {
          "output_type": "stream",
          "name": "stdout",
          "text": [
            "Epoch 1/50\n",
            "1719/1719 [==============================] - 13s 4ms/step - loss: 0.6032 - accuracy: 0.8449 - val_loss: 0.2963 - val_accuracy: 0.9196\n",
            "Epoch 2/50\n",
            "1719/1719 [==============================] - 6s 3ms/step - loss: 0.2806 - accuracy: 0.9198 - val_loss: 0.2345 - val_accuracy: 0.9304\n",
            "Epoch 3/50\n",
            "1719/1719 [==============================] - 6s 4ms/step - loss: 0.2303 - accuracy: 0.9341 - val_loss: 0.1952 - val_accuracy: 0.9442\n",
            "Epoch 4/50\n",
            "1719/1719 [==============================] - 6s 3ms/step - loss: 0.1969 - accuracy: 0.9435 - val_loss: 0.1729 - val_accuracy: 0.9514\n",
            "Epoch 5/50\n",
            "1719/1719 [==============================] - 6s 4ms/step - loss: 0.1726 - accuracy: 0.9501 - val_loss: 0.1544 - val_accuracy: 0.9560\n",
            "Epoch 6/50\n",
            "1719/1719 [==============================] - 5s 3ms/step - loss: 0.1535 - accuracy: 0.9557 - val_loss: 0.1416 - val_accuracy: 0.9610\n",
            "Epoch 7/50\n",
            "1719/1719 [==============================] - 6s 4ms/step - loss: 0.1377 - accuracy: 0.9606 - val_loss: 0.1307 - val_accuracy: 0.9628\n",
            "Epoch 8/50\n",
            "1719/1719 [==============================] - 6s 3ms/step - loss: 0.1248 - accuracy: 0.9641 - val_loss: 0.1252 - val_accuracy: 0.9656\n",
            "Epoch 9/50\n",
            "1719/1719 [==============================] - 6s 4ms/step - loss: 0.1138 - accuracy: 0.9683 - val_loss: 0.1164 - val_accuracy: 0.9666\n",
            "Epoch 10/50\n",
            "1719/1719 [==============================] - 6s 3ms/step - loss: 0.1048 - accuracy: 0.9703 - val_loss: 0.1078 - val_accuracy: 0.9696\n",
            "Epoch 11/50\n",
            "1719/1719 [==============================] - 7s 4ms/step - loss: 0.0963 - accuracy: 0.9731 - val_loss: 0.1039 - val_accuracy: 0.9702\n",
            "Epoch 12/50\n",
            "1719/1719 [==============================] - 6s 3ms/step - loss: 0.0891 - accuracy: 0.9750 - val_loss: 0.1000 - val_accuracy: 0.9710\n",
            "Epoch 13/50\n",
            "1719/1719 [==============================] - 6s 4ms/step - loss: 0.0828 - accuracy: 0.9770 - val_loss: 0.0956 - val_accuracy: 0.9720\n",
            "Epoch 14/50\n",
            "1719/1719 [==============================] - 6s 3ms/step - loss: 0.0767 - accuracy: 0.9786 - val_loss: 0.0932 - val_accuracy: 0.9738\n",
            "Epoch 15/50\n",
            "1719/1719 [==============================] - 6s 4ms/step - loss: 0.0717 - accuracy: 0.9800 - val_loss: 0.0879 - val_accuracy: 0.9736\n",
            "Epoch 16/50\n",
            "1719/1719 [==============================] - 6s 3ms/step - loss: 0.0670 - accuracy: 0.9817 - val_loss: 0.0856 - val_accuracy: 0.9752\n",
            "Epoch 17/50\n",
            "1719/1719 [==============================] - 7s 4ms/step - loss: 0.0628 - accuracy: 0.9828 - val_loss: 0.0839 - val_accuracy: 0.9764\n",
            "Epoch 18/50\n",
            "1719/1719 [==============================] - 5s 3ms/step - loss: 0.0589 - accuracy: 0.9841 - val_loss: 0.0817 - val_accuracy: 0.9780\n",
            "Epoch 19/50\n",
            "1719/1719 [==============================] - 6s 4ms/step - loss: 0.0553 - accuracy: 0.9849 - val_loss: 0.0807 - val_accuracy: 0.9780\n",
            "Epoch 20/50\n",
            "1719/1719 [==============================] - 5s 3ms/step - loss: 0.0520 - accuracy: 0.9858 - val_loss: 0.0802 - val_accuracy: 0.9770\n",
            "Epoch 21/50\n",
            "1719/1719 [==============================] - 6s 3ms/step - loss: 0.0489 - accuracy: 0.9871 - val_loss: 0.0753 - val_accuracy: 0.9774\n",
            "Epoch 22/50\n",
            "1719/1719 [==============================] - 6s 3ms/step - loss: 0.0461 - accuracy: 0.9879 - val_loss: 0.0767 - val_accuracy: 0.9778\n",
            "Epoch 23/50\n",
            "1719/1719 [==============================] - 6s 3ms/step - loss: 0.0433 - accuracy: 0.9889 - val_loss: 0.0767 - val_accuracy: 0.9770\n",
            "Epoch 24/50\n",
            "1719/1719 [==============================] - 6s 4ms/step - loss: 0.0408 - accuracy: 0.9896 - val_loss: 0.0756 - val_accuracy: 0.9780\n",
            "Epoch 25/50\n",
            "1719/1719 [==============================] - 5s 3ms/step - loss: 0.0388 - accuracy: 0.9898 - val_loss: 0.0727 - val_accuracy: 0.9790\n",
            "Epoch 26/50\n",
            "1719/1719 [==============================] - 7s 4ms/step - loss: 0.0364 - accuracy: 0.9907 - val_loss: 0.0708 - val_accuracy: 0.9788\n",
            "Epoch 27/50\n",
            "1719/1719 [==============================] - 5s 3ms/step - loss: 0.0346 - accuracy: 0.9913 - val_loss: 0.0699 - val_accuracy: 0.9794\n",
            "Epoch 28/50\n",
            "1719/1719 [==============================] - 6s 4ms/step - loss: 0.0327 - accuracy: 0.9919 - val_loss: 0.0716 - val_accuracy: 0.9794\n",
            "Epoch 29/50\n",
            "1719/1719 [==============================] - 5s 3ms/step - loss: 0.0305 - accuracy: 0.9927 - val_loss: 0.0709 - val_accuracy: 0.9788\n",
            "Epoch 30/50\n",
            "1719/1719 [==============================] - 6s 4ms/step - loss: 0.0290 - accuracy: 0.9932 - val_loss: 0.0690 - val_accuracy: 0.9800\n",
            "Epoch 31/50\n",
            "1719/1719 [==============================] - 5s 3ms/step - loss: 0.0274 - accuracy: 0.9938 - val_loss: 0.0703 - val_accuracy: 0.9796\n",
            "Epoch 32/50\n",
            "1719/1719 [==============================] - 6s 4ms/step - loss: 0.0258 - accuracy: 0.9946 - val_loss: 0.0679 - val_accuracy: 0.9818\n",
            "Epoch 33/50\n",
            "1719/1719 [==============================] - 5s 3ms/step - loss: 0.0246 - accuracy: 0.9945 - val_loss: 0.0681 - val_accuracy: 0.9806\n",
            "Epoch 34/50\n",
            "1719/1719 [==============================] - 6s 4ms/step - loss: 0.0233 - accuracy: 0.9953 - val_loss: 0.0700 - val_accuracy: 0.9806\n",
            "Epoch 35/50\n",
            "1719/1719 [==============================] - 5s 3ms/step - loss: 0.0220 - accuracy: 0.9957 - val_loss: 0.0674 - val_accuracy: 0.9810\n",
            "Epoch 36/50\n",
            "1719/1719 [==============================] - 6s 4ms/step - loss: 0.0208 - accuracy: 0.9958 - val_loss: 0.0682 - val_accuracy: 0.9812\n",
            "Epoch 37/50\n",
            "1719/1719 [==============================] - 6s 3ms/step - loss: 0.0197 - accuracy: 0.9966 - val_loss: 0.0657 - val_accuracy: 0.9818\n",
            "Epoch 38/50\n",
            "1719/1719 [==============================] - 6s 3ms/step - loss: 0.0187 - accuracy: 0.9966 - val_loss: 0.0667 - val_accuracy: 0.9810\n",
            "Epoch 39/50\n",
            "1719/1719 [==============================] - 6s 4ms/step - loss: 0.0178 - accuracy: 0.9971 - val_loss: 0.0679 - val_accuracy: 0.9806\n",
            "Epoch 40/50\n",
            "1719/1719 [==============================] - 6s 3ms/step - loss: 0.0169 - accuracy: 0.9973 - val_loss: 0.0666 - val_accuracy: 0.9812\n",
            "Epoch 41/50\n",
            "1719/1719 [==============================] - 6s 3ms/step - loss: 0.0161 - accuracy: 0.9976 - val_loss: 0.0663 - val_accuracy: 0.9822\n",
            "Epoch 42/50\n",
            "1719/1719 [==============================] - 5s 3ms/step - loss: 0.0153 - accuracy: 0.9980 - val_loss: 0.0662 - val_accuracy: 0.9814\n",
            "Epoch 43/50\n",
            "1719/1719 [==============================] - 6s 4ms/step - loss: 0.0147 - accuracy: 0.9981 - val_loss: 0.0680 - val_accuracy: 0.9808\n",
            "Epoch 44/50\n",
            "1719/1719 [==============================] - 5s 3ms/step - loss: 0.0139 - accuracy: 0.9983 - val_loss: 0.0656 - val_accuracy: 0.9820\n",
            "Epoch 45/50\n",
            "1719/1719 [==============================] - 6s 4ms/step - loss: 0.0132 - accuracy: 0.9984 - val_loss: 0.0672 - val_accuracy: 0.9816\n",
            "Epoch 46/50\n",
            "1719/1719 [==============================] - 5s 3ms/step - loss: 0.0127 - accuracy: 0.9985 - val_loss: 0.0666 - val_accuracy: 0.9814\n",
            "Epoch 47/50\n",
            "1719/1719 [==============================] - 6s 4ms/step - loss: 0.0121 - accuracy: 0.9987 - val_loss: 0.0673 - val_accuracy: 0.9818\n",
            "Epoch 48/50\n",
            "1719/1719 [==============================] - 6s 3ms/step - loss: 0.0114 - accuracy: 0.9989 - val_loss: 0.0677 - val_accuracy: 0.9804\n",
            "Epoch 49/50\n",
            "1719/1719 [==============================] - 6s 4ms/step - loss: 0.0109 - accuracy: 0.9990 - val_loss: 0.0659 - val_accuracy: 0.9810\n",
            "Epoch 50/50\n",
            "1719/1719 [==============================] - 5s 3ms/step - loss: 0.0105 - accuracy: 0.9989 - val_loss: 0.0673 - val_accuracy: 0.9806\n"
          ]
        }
      ]
    },
    {
      "cell_type": "code",
      "source": [
        "model.evaluate(x_test , y_test)"
      ],
      "metadata": {
        "colab": {
          "base_uri": "https://localhost:8080/"
        },
        "id": "aRhJMtd8Lz2M",
        "outputId": "b1585124-af2a-4094-c42a-b2f9d2a93007"
      },
      "execution_count": 13,
      "outputs": [
        {
          "output_type": "stream",
          "name": "stdout",
          "text": [
            "313/313 [==============================] - 1s 2ms/step - loss: 0.0653 - accuracy: 0.9797\n"
          ]
        },
        {
          "output_type": "execute_result",
          "data": {
            "text/plain": [
              "[0.06530704349279404, 0.9797000288963318]"
            ]
          },
          "metadata": {},
          "execution_count": 13
        }
      ]
    },
    {
      "cell_type": "code",
      "source": [
        "x_sample = x_test[:5]\n",
        "y_probability = model.predict(x_sample)"
      ],
      "metadata": {
        "colab": {
          "base_uri": "https://localhost:8080/"
        },
        "id": "-figxzRzOL8c",
        "outputId": "f5850e77-e47f-49de-f244-32fb038d3a20"
      },
      "execution_count": 14,
      "outputs": [
        {
          "output_type": "stream",
          "name": "stdout",
          "text": [
            "1/1 [==============================] - 0s 75ms/step\n"
          ]
        }
      ]
    },
    {
      "cell_type": "code",
      "source": [
        "y_probability.round()"
      ],
      "metadata": {
        "id": "_s1nl2uNtdOE",
        "outputId": "85c9f2af-26ef-4fba-ead9-3ec2d338c85b",
        "colab": {
          "base_uri": "https://localhost:8080/"
        }
      },
      "execution_count": 17,
      "outputs": [
        {
          "output_type": "execute_result",
          "data": {
            "text/plain": [
              "array([[0., 0., 0., 0., 0., 0., 0., 1., 0., 0.],\n",
              "       [0., 0., 1., 0., 0., 0., 0., 0., 0., 0.],\n",
              "       [0., 1., 0., 0., 0., 0., 0., 0., 0., 0.],\n",
              "       [1., 0., 0., 0., 0., 0., 0., 0., 0., 0.],\n",
              "       [0., 0., 0., 0., 1., 0., 0., 0., 0., 0.]], dtype=float32)"
            ]
          },
          "metadata": {},
          "execution_count": 17
        }
      ]
    },
    {
      "cell_type": "code",
      "source": [],
      "metadata": {
        "id": "KKFnjayxwp-K"
      },
      "execution_count": null,
      "outputs": []
    }
  ]
}